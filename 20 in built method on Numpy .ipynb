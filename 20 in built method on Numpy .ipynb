{
 "cells": [
  {
   "cell_type": "code",
   "execution_count": null,
   "id": "6fb38df1",
   "metadata": {},
   "outputs": [],
   "source": [
    "#Numpy (numerical python) is a scientific computing package that \n",
    "#provides numerous ways to craete and operate  on arrays of numbers. \n",
    "#The opertaions can be grouped into four (Creating array, manipulating \n",
    "#arrays,combining arrats and linear algebra with arrays)"
   ]
  },
  {
   "cell_type": "code",
   "execution_count": 2,
   "id": "1e6d5c04",
   "metadata": {},
   "outputs": [],
   "source": [
    "import numpy as np"
   ]
  },
  {
   "cell_type": "code",
   "execution_count": 9,
   "id": "efff901b",
   "metadata": {},
   "outputs": [
    {
     "data": {
      "text/plain": [
       "array([0, 0, 1, 0, 5, 5, 4])"
      ]
     },
     "execution_count": 9,
     "metadata": {},
     "output_type": "execute_result"
    }
   ],
   "source": [
    "#CREATING ARRAYS\n",
    "#1. Random integers in a specific range\n",
    "np.random.randint(7,size=7)"
   ]
  },
  {
   "cell_type": "code",
   "execution_count": 13,
   "id": "923d36fc",
   "metadata": {},
   "outputs": [
    {
     "data": {
      "text/plain": [
       "array([[5, 5],\n",
       "       [5, 6],\n",
       "       [6, 6]])"
      ]
     },
     "execution_count": 13,
     "metadata": {},
     "output_type": "execute_result"
    }
   ],
   "source": [
    "# to craete a 3x2 array of integers between 5 and 10\n",
    "np.random.randint(5, 10, size=(3,2))"
   ]
  },
  {
   "cell_type": "code",
   "execution_count": 14,
   "id": "db989417",
   "metadata": {},
   "outputs": [
    {
     "data": {
      "text/plain": [
       "array([0.57486301, 0.8667275 , 0.22562028, 0.53359054, 0.34353511,\n",
       "       0.23542409])"
      ]
     },
     "execution_count": 14,
     "metadata": {},
     "output_type": "execute_result"
    }
   ],
   "source": [
    "#2.Random floats between 0 and 1 (a 1 dimension array of floats between 0 and 1. it is useful to craete random noise data)\n",
    "np.random.random(6)"
   ]
  },
  {
   "cell_type": "code",
   "execution_count": 16,
   "id": "999a3567",
   "metadata": {},
   "outputs": [
    {
     "name": "stdout",
     "output_type": "stream",
     "text": [
      "-0.030526213208104794\n",
      "1.053753314392725\n"
     ]
    }
   ],
   "source": [
    "#3. Sample from a standard normal distribution (used to create a sample from a \n",
    "#standard normal distribution (i.e zero mean and unit variance))\n",
    "print(np.random.randn(200).mean())\n",
    "print(np.random.randn(200).std())"
   ]
  },
  {
   "cell_type": "code",
   "execution_count": 31,
   "id": "b8bd71b7",
   "metadata": {},
   "outputs": [
    {
     "data": {
      "text/plain": [
       "array([[1., 1., 1.],\n",
       "       [1., 1., 1.],\n",
       "       [1., 1., 1.],\n",
       "       [1., 1., 1.],\n",
       "       [1., 1., 1.]])"
      ]
     },
     "execution_count": 31,
     "metadata": {},
     "output_type": "execute_result"
    }
   ],
   "source": [
    "#4. Matrix with ones and zeros (a matrix can be considered as a 2-dimensional array. \n",
    "#It can be craeted withzeros or ones with np.zeros and np.ones, respectively)\n",
    "np.ones((5,3))"
   ]
  },
  {
   "cell_type": "code",
   "execution_count": 32,
   "id": "a2c2712a",
   "metadata": {},
   "outputs": [
    {
     "data": {
      "text/plain": [
       "array([0., 0., 0., 0., 0., 0.])"
      ]
     },
     "execution_count": 32,
     "metadata": {},
     "output_type": "execute_result"
    }
   ],
   "source": [
    "np.zeros(6)"
   ]
  },
  {
   "cell_type": "code",
   "execution_count": 33,
   "id": "2af2f109",
   "metadata": {},
   "outputs": [
    {
     "data": {
      "text/plain": [
       "array([[1., 0., 0., 0.],\n",
       "       [0., 1., 0., 0.],\n",
       "       [0., 0., 1., 0.],\n",
       "       [0., 0., 0., 1.]])"
      ]
     },
     "execution_count": 33,
     "metadata": {},
     "output_type": "execute_result"
    }
   ],
   "source": [
    "#5. Identity matrix (an identity matrix is a square matrix (nxn) that has ones \n",
    "#on the diagonal and zeros on every other position, np.eye or np.identity can be used to create one.\n",
    "np.eye(4)"
   ]
  },
  {
   "cell_type": "code",
   "execution_count": 34,
   "id": "29a11659",
   "metadata": {},
   "outputs": [
    {
     "data": {
      "text/plain": [
       "array([[1., 0., 0., 0.],\n",
       "       [0., 1., 0., 0.],\n",
       "       [0., 0., 1., 0.],\n",
       "       [0., 0., 0., 1.]])"
      ]
     },
     "execution_count": 34,
     "metadata": {},
     "output_type": "execute_result"
    }
   ],
   "source": [
    "np.identity(4)"
   ]
  },
  {
   "cell_type": "code",
   "execution_count": 39,
   "id": "73ffb252",
   "metadata": {},
   "outputs": [
    {
     "data": {
      "text/plain": [
       "array([0, 1, 2, 3, 4, 5, 6, 7, 8])"
      ]
     },
     "execution_count": 39,
     "metadata": {},
     "output_type": "execute_result"
    }
   ],
   "source": [
    "#6. Arange (arange function is used to create arrays with evenly spaced sequential values in a \n",
    "#specified interval. we can specify start value, stop value and step size)\n",
    "np.arange(9)"
   ]
  },
  {
   "cell_type": "code",
   "execution_count": 40,
   "id": "386c5254",
   "metadata": {},
   "outputs": [
    {
     "data": {
      "text/plain": [
       "array([1, 2, 3, 4, 5, 6, 7, 8])"
      ]
     },
     "execution_count": 40,
     "metadata": {},
     "output_type": "execute_result"
    }
   ],
   "source": [
    "np.arange(1,9)"
   ]
  },
  {
   "cell_type": "code",
   "execution_count": 41,
   "id": "6e12be65",
   "metadata": {},
   "outputs": [
    {
     "data": {
      "text/plain": [
       "array([0, 4, 8])"
      ]
     },
     "execution_count": 41,
     "metadata": {},
     "output_type": "execute_result"
    }
   ],
   "source": [
    "#the default start value is zero and the default step size is one\n",
    "np.arange(0,10,4)"
   ]
  },
  {
   "cell_type": "code",
   "execution_count": 42,
   "id": "f4b12ee9",
   "metadata": {},
   "outputs": [
    {
     "data": {
      "text/plain": [
       "array([20, 25, 30, 35, 40, 45, 50, 55, 60, 65, 70, 75, 80, 85, 90, 95])"
      ]
     },
     "execution_count": 42,
     "metadata": {},
     "output_type": "execute_result"
    }
   ],
   "source": [
    "np.arange(20,100,5)"
   ]
  },
  {
   "cell_type": "code",
   "execution_count": 44,
   "id": "6cd44a70",
   "metadata": {},
   "outputs": [
    {
     "data": {
      "text/plain": [
       "array([[8, 8, 8, 8],\n",
       "       [8, 8, 8, 8],\n",
       "       [8, 8, 8, 8],\n",
       "       [8, 8, 8, 8],\n",
       "       [8, 8, 8, 8]])"
      ]
     },
     "execution_count": 44,
     "metadata": {},
     "output_type": "execute_result"
    }
   ],
   "source": [
    "#7. Array with only one value(we can create an array that has the same value at every position using np.full)\n",
    "np.full((5,4),8)\n"
   ]
  },
  {
   "cell_type": "code",
   "execution_count": 50,
   "id": "1827452d",
   "metadata": {},
   "outputs": [
    {
     "data": {
      "text/plain": [
       "array([[8., 8., 8., 8.],\n",
       "       [8., 8., 8., 8.],\n",
       "       [8., 8., 8., 8.],\n",
       "       [8., 8., 8., 8.],\n",
       "       [8., 8., 8., 8.]])"
      ]
     },
     "execution_count": 50,
     "metadata": {},
     "output_type": "execute_result"
    }
   ],
   "source": [
    "np.full((5,4),8, dtype=\"float\")"
   ]
  },
  {
   "cell_type": "code",
   "execution_count": 54,
   "id": "14adf86d",
   "metadata": {},
   "outputs": [
    {
     "data": {
      "text/plain": [
       "array([[6, 3, 1, 4, 1, 6, 4, 0],\n",
       "       [3, 3, 3, 3, 6, 4, 0, 2],\n",
       "       [2, 5, 6, 1, 1, 6, 0, 0],\n",
       "       [0, 6, 1, 1, 0, 4, 6, 3],\n",
       "       [2, 5, 6, 2, 4, 1, 2, 1]])"
      ]
     },
     "execution_count": 54,
     "metadata": {},
     "output_type": "execute_result"
    }
   ],
   "source": [
    "#MANIPULATING ARRAYS\n",
    "#lets create a 2 dimensional array:\n",
    "A=np.random.randint(7, size=(5,8))\n",
    "A"
   ]
  },
  {
   "cell_type": "code",
   "execution_count": 55,
   "id": "32303b97",
   "metadata": {},
   "outputs": [
    {
     "data": {
      "text/plain": [
       "array([6, 3, 1, 4, 1, 6, 4, 0, 3, 3, 3, 3, 6, 4, 0, 2, 2, 5, 6, 1, 1, 6,\n",
       "       0, 0, 0, 6, 1, 1, 0, 4, 6, 3, 2, 5, 6, 2, 4, 1, 2, 1])"
      ]
     },
     "execution_count": 55,
     "metadata": {},
     "output_type": "execute_result"
    }
   ],
   "source": [
    "#8. Ravel(this functions flattens the array i.e converts to a 1 dimension array)\n",
    "A.ravel()"
   ]
  },
  {
   "cell_type": "code",
   "execution_count": 56,
   "id": "785ff3f8",
   "metadata": {},
   "outputs": [
    {
     "data": {
      "text/plain": [
       "array([6, 3, 2, 0, 2, 3, 3, 5, 6, 5, 1, 3, 6, 1, 6, 4, 3, 1, 1, 2, 1, 6,\n",
       "       1, 0, 4, 6, 4, 6, 4, 1, 4, 0, 0, 6, 2, 0, 2, 0, 3, 1])"
      ]
     },
     "execution_count": 56,
     "metadata": {},
     "output_type": "execute_result"
    }
   ],
   "source": [
    "#an array is flattened by adding row after row. it can be changed to column wise by \n",
    "#setting the order parameters as F (Fortran-style)\n",
    "A.ravel(order=\"F\")"
   ]
  },
  {
   "cell_type": "code",
   "execution_count": 57,
   "id": "4d7c9e5f",
   "metadata": {},
   "outputs": [
    {
     "data": {
      "text/plain": [
       "(5, 8)"
      ]
     },
     "execution_count": 57,
     "metadata": {},
     "output_type": "execute_result"
    }
   ],
   "source": [
    "#9. Reshape(it reshapes an array. the shape of A is (5,8 and the size is 40))\n",
    "A.shape"
   ]
  },
  {
   "cell_type": "code",
   "execution_count": 58,
   "id": "23a037f5",
   "metadata": {},
   "outputs": [
    {
     "data": {
      "text/plain": [
       "40"
      ]
     },
     "execution_count": 58,
     "metadata": {},
     "output_type": "execute_result"
    }
   ],
   "source": [
    "A.size"
   ]
  },
  {
   "cell_type": "code",
   "execution_count": 59,
   "id": "78e4c1dc",
   "metadata": {},
   "outputs": [
    {
     "data": {
      "text/plain": [
       "array([[6, 3, 1, 4, 1, 6, 4, 0],\n",
       "       [3, 3, 3, 3, 6, 4, 0, 2],\n",
       "       [2, 5, 6, 1, 1, 6, 0, 0],\n",
       "       [0, 6, 1, 1, 0, 4, 6, 3],\n",
       "       [2, 5, 6, 2, 4, 1, 2, 1]])"
      ]
     },
     "execution_count": 59,
     "metadata": {},
     "output_type": "execute_result"
    }
   ],
   "source": [
    "A.reshape(5,8)"
   ]
  },
  {
   "cell_type": "code",
   "execution_count": 60,
   "id": "fc7c4654",
   "metadata": {},
   "outputs": [
    {
     "data": {
      "text/plain": [
       "array([[6, 3, 1, 4, 1],\n",
       "       [6, 4, 0, 3, 3],\n",
       "       [3, 3, 6, 4, 0],\n",
       "       [2, 2, 5, 6, 1],\n",
       "       [1, 6, 0, 0, 0],\n",
       "       [6, 1, 1, 0, 4],\n",
       "       [6, 3, 2, 5, 6],\n",
       "       [2, 4, 1, 2, 1]])"
      ]
     },
     "execution_count": 60,
     "metadata": {},
     "output_type": "execute_result"
    }
   ],
   "source": [
    "A.reshape(8,5)"
   ]
  },
  {
   "cell_type": "code",
   "execution_count": 62,
   "id": "76b359fb",
   "metadata": {},
   "outputs": [
    {
     "data": {
      "text/plain": [
       "array([[6, 3, 1, 4, 1, 6, 4, 0, 3, 3, 3, 3, 6, 4, 0, 2, 2, 5, 6, 1, 1, 6,\n",
       "        0, 0, 0, 6, 1, 1, 0, 4, 6, 3, 2, 5, 6, 2, 4, 1, 2, 1]])"
      ]
     },
     "execution_count": 62,
     "metadata": {},
     "output_type": "execute_result"
    }
   ],
   "source": [
    "#Numpy can figure out a dimension by passing -1\n",
    "A.reshape(1,-1)"
   ]
  },
  {
   "cell_type": "code",
   "execution_count": 63,
   "id": "a7e9c890",
   "metadata": {
    "scrolled": true
   },
   "outputs": [
    {
     "data": {
      "text/plain": [
       "array([[6, 3, 1, 4, 1, 6, 4, 0],\n",
       "       [3, 3, 3, 3, 6, 4, 0, 2],\n",
       "       [2, 5, 6, 1, 1, 6, 0, 0],\n",
       "       [0, 6, 1, 1, 0, 4, 6, 3],\n",
       "       [2, 5, 6, 2, 4, 1, 2, 1]])"
      ]
     },
     "execution_count": 63,
     "metadata": {},
     "output_type": "execute_result"
    }
   ],
   "source": [
    "#9. Transpose (transposing a matrix is to switch rows and columns)\n",
    "A"
   ]
  },
  {
   "cell_type": "code",
   "execution_count": 67,
   "id": "c02cd3b9",
   "metadata": {},
   "outputs": [
    {
     "data": {
      "text/plain": [
       "array([[0, 4, 3, 0, 0],\n",
       "       [4, 3, 1, 0, 3],\n",
       "       [3, 1, 2, 3, 3],\n",
       "       [4, 4, 4, 1, 0],\n",
       "       [3, 0, 1, 0, 2],\n",
       "       [0, 3, 2, 4, 1],\n",
       "       [3, 2, 1, 0, 0],\n",
       "       [0, 2, 2, 2, 4]])"
      ]
     },
     "execution_count": 67,
     "metadata": {},
     "output_type": "execute_result"
    }
   ],
   "source": [
    "A.reshape(-1,5)"
   ]
  },
  {
   "cell_type": "code",
   "execution_count": 65,
   "id": "279910be",
   "metadata": {
    "scrolled": true
   },
   "outputs": [
    {
     "data": {
      "text/plain": [
       "array([[6, 3, 2, 0, 2],\n",
       "       [3, 3, 5, 6, 5],\n",
       "       [1, 3, 6, 1, 6],\n",
       "       [4, 3, 1, 1, 2],\n",
       "       [1, 6, 1, 0, 4],\n",
       "       [6, 4, 6, 4, 1],\n",
       "       [4, 0, 0, 6, 2],\n",
       "       [0, 2, 0, 3, 1]])"
      ]
     },
     "execution_count": 65,
     "metadata": {},
     "output_type": "execute_result"
    }
   ],
   "source": [
    "#10.transpose\n",
    "A.transpose()"
   ]
  },
  {
   "cell_type": "code",
   "execution_count": 77,
   "id": "d0142433",
   "metadata": {},
   "outputs": [
    {
     "data": {
      "text/plain": [
       "[array([[1, 1, 4],\n",
       "        [4, 4, 4]]),\n",
       " array([[1, 2, 3],\n",
       "        [2, 1, 2]])]"
      ]
     },
     "execution_count": 77,
     "metadata": {},
     "output_type": "execute_result"
    }
   ],
   "source": [
    "#11. Vsplit (splits an array into multiple sub-arrays vertically)\n",
    "A = np.random.randint(5, size=(4,3))\n",
    "np.vsplit(A, 2)"
   ]
  },
  {
   "cell_type": "code",
   "execution_count": 78,
   "id": "748cf17a",
   "metadata": {},
   "outputs": [
    {
     "data": {
      "text/plain": [
       "array([[2, 3, 3],\n",
       "       [3, 3, 4]])"
      ]
     },
     "execution_count": 78,
     "metadata": {},
     "output_type": "execute_result"
    }
   ],
   "source": [
    "#we split (a 4x3 array into 2 sub-arrays with a shape of 2x3. A particular sub-array is accessible after splitting.)\n",
    "A = np.random.randint(5, size=(6,3))\n",
    "np.vsplit(A,3)[0]\n",
    "#we splited a 6x3 array into 3 sub-arrays and get the first one"
   ]
  },
  {
   "cell_type": "code",
   "execution_count": 80,
   "id": "fdf630f3",
   "metadata": {},
   "outputs": [
    {
     "data": {
      "text/plain": [
       "[array([[1, 1, 2, 2]]), array([[3, 3, 4, 4]])]"
      ]
     },
     "execution_count": 80,
     "metadata": {},
     "output_type": "execute_result"
    }
   ],
   "source": [
    "#12. Hsplit (It is similar to vslip but works horizontal).\n",
    "a= np.array([[1,1,2,2,3,3,4,4,]])\n",
    "np.hsplit(a,2)"
   ]
  },
  {
   "cell_type": "code",
   "execution_count": 81,
   "id": "3bf7f646",
   "metadata": {},
   "outputs": [
    {
     "data": {
      "text/plain": [
       "array([[0],\n",
       "       [2],\n",
       "       [4],\n",
       "       [4],\n",
       "       [1],\n",
       "       [3]])"
      ]
     },
     "execution_count": 81,
     "metadata": {},
     "output_type": "execute_result"
    }
   ],
   "source": [
    "#if it is applied on a 6x3 arrays to get 3 sub-arrays, resulting arrays will have a shape of(6,1)\n",
    "A=np.random.randint(5, size=(6,3))\n",
    "np.hsplit(A, 3)[0]"
   ]
  },
  {
   "cell_type": "code",
   "execution_count": 82,
   "id": "636372c8",
   "metadata": {},
   "outputs": [
    {
     "data": {
      "text/plain": [
       "(6, 1)"
      ]
     },
     "execution_count": 82,
     "metadata": {},
     "output_type": "execute_result"
    }
   ],
   "source": [
    "np.hsplit(A, 3)[0].shape"
   ]
  },
  {
   "cell_type": "code",
   "execution_count": 85,
   "id": "88c9cbac",
   "metadata": {},
   "outputs": [
    {
     "data": {
      "text/plain": [
       "array([1, 2, 3, 4, 3, 3, 3])"
      ]
     },
     "execution_count": 85,
     "metadata": {},
     "output_type": "execute_result"
    }
   ],
   "source": [
    "#COMBINING ARRAYS (#we may need to combine arrays in some cases. \n",
    "#Numpy provides functions and methods to combine array in many different ways.\n",
    "#13. Concatenate: it is similar to the concat function of pandas\n",
    "a=np.array([1,2,3,4])\n",
    "b=np.array([3,3,3])\n",
    "np.concatenate((a,b))"
   ]
  },
  {
   "cell_type": "code",
   "execution_count": 90,
   "id": "12b88840",
   "metadata": {},
   "outputs": [
    {
     "data": {
      "text/plain": [
       "array([[1, 3],\n",
       "       [2, 3],\n",
       "       [3, 3],\n",
       "       [4, 3]])"
      ]
     },
     "execution_count": 90,
     "metadata": {},
     "output_type": "execute_result"
    }
   ],
   "source": [
    "#these arrays can be converted to column vectors using the reshape function and then concatenate vertically.\n",
    "a=np.array([1,2,3,4])\n",
    "b=np.array([3,3,3,3])\n",
    "\n",
    "np.concatenate((a.reshape(-1,1),b.reshape(-1,1)), axis=1)"
   ]
  },
  {
   "cell_type": "code",
   "execution_count": 91,
   "id": "23ec83b1",
   "metadata": {},
   "outputs": [
    {
     "data": {
      "text/plain": [
       "array([[1, 2, 3, 4],\n",
       "       [4, 4, 4, 4],\n",
       "       [8, 8, 8, 8]])"
      ]
     },
     "execution_count": 91,
     "metadata": {},
     "output_type": "execute_result"
    }
   ],
   "source": [
    "#14.Vstack: this is used to stack arrays vertically (rows on top of each other)\n",
    "a= np.array([1,2,3,4])\n",
    "b=np.array([4,4,4,4])\n",
    "c= np.array([8,8,8,8])\n",
    "\n",
    "np.vstack((a,b,c))"
   ]
  },
  {
   "cell_type": "code",
   "execution_count": 93,
   "id": "a13a7b16",
   "metadata": {},
   "outputs": [
    {
     "data": {
      "text/plain": [
       "array([[[3, 3, 3],\n",
       "        [4, 4, 3],\n",
       "        [4, 2, 3]],\n",
       "\n",
       "       [[1, 3, 4],\n",
       "        [4, 1, 3],\n",
       "        [2, 2, 0]],\n",
       "\n",
       "       [[0, 4, 2],\n",
       "        [0, 3, 0],\n",
       "        [3, 2, 4]],\n",
       "\n",
       "       [[3, 0, 2],\n",
       "        [4, 2, 4],\n",
       "        [2, 1, 2]],\n",
       "\n",
       "       [[4, 0, 1],\n",
       "        [4, 1, 2],\n",
       "        [3, 1, 0]],\n",
       "\n",
       "       [[0, 4, 3],\n",
       "        [2, 4, 0],\n",
       "        [4, 2, 1]],\n",
       "\n",
       "       [[3, 1, 0],\n",
       "        [4, 0, 3],\n",
       "        [1, 1, 2]],\n",
       "\n",
       "       [[4, 2, 0],\n",
       "        [1, 3, 2],\n",
       "        [3, 3, 4]],\n",
       "\n",
       "       [[2, 0, 1],\n",
       "        [2, 0, 4],\n",
       "        [0, 0, 3]]])"
      ]
     },
     "execution_count": 93,
     "metadata": {},
     "output_type": "execute_result"
    }
   ],
   "source": [
    "#it also works with higher dimensional arrays\n",
    "X= np.random.randint(5, size=(3,3,3))\n",
    "Y= np.random.randint(5, size=(3,3,3))\n",
    "Z=np.random.randint(5, size=(3,3,3))\n",
    "\n",
    "np.vstack((X,Y,Z))"
   ]
  },
  {
   "cell_type": "code",
   "execution_count": 96,
   "id": "0d038028",
   "metadata": {
    "scrolled": true
   },
   "outputs": [
    {
     "data": {
      "text/plain": [
       "array([[1, 3, 0],\n",
       "       [2, 3, 1],\n",
       "       [3, 3, 4],\n",
       "       [4, 3, 6]])"
      ]
     },
     "execution_count": 96,
     "metadata": {},
     "output_type": "execute_result"
    }
   ],
   "source": [
    "#15. Hstack: similar to vstack but works horizontally\n",
    "X= np.array([1,2,3,4]).reshape(-1,1)\n",
    "Y= np.array([3,3,3,3]).reshape(-1,1)\n",
    "Z= np.array([0,1,4,6,]).reshape(-1,1)\n",
    "\n",
    "np.hstack((X,Y,Z))"
   ]
  },
  {
   "cell_type": "code",
   "execution_count": 103,
   "id": "7d135144",
   "metadata": {},
   "outputs": [
    {
     "data": {
      "text/plain": [
       "array([[3, 1, 1],\n",
       "       [3, 2, 0],\n",
       "       [0, 1, 1]])"
      ]
     },
     "execution_count": 103,
     "metadata": {},
     "output_type": "execute_result"
    }
   ],
   "source": [
    "#LINEAR ALGEBRA WITH NUMPY ARRAYS \n",
    "#16. Det: returns the determinant of a matrix\n",
    "A=np.random.randint(5, size=(3,3))\n",
    "A"
   ]
  },
  {
   "cell_type": "code",
   "execution_count": 104,
   "id": "249f7c41",
   "metadata": {},
   "outputs": [
    {
     "data": {
      "text/plain": [
       "6.0"
      ]
     },
     "execution_count": 104,
     "metadata": {},
     "output_type": "execute_result"
    }
   ],
   "source": [
    "np.linalg.det(A)"
   ]
  },
  {
   "cell_type": "code",
   "execution_count": 105,
   "id": "4fffece7",
   "metadata": {},
   "outputs": [
    {
     "data": {
      "text/plain": [
       "array([[ 0.33333333,  0.        , -0.33333333],\n",
       "       [-0.5       ,  0.5       ,  0.5       ],\n",
       "       [ 0.5       , -0.5       ,  0.5       ]])"
      ]
     },
     "execution_count": 105,
     "metadata": {},
     "output_type": "execute_result"
    }
   ],
   "source": [
    "#17. Inv: calculates the inverse of a matrix\n",
    "np.linalg.inv(A)"
   ]
  },
  {
   "cell_type": "code",
   "execution_count": 106,
   "id": "95856825",
   "metadata": {},
   "outputs": [
    {
     "data": {
      "text/plain": [
       "(array([4.52510225+0.j       , 0.73744887+0.8843676j,\n",
       "        0.73744887-0.8843676j]),\n",
       " array([[ 0.62930403+0.j        , -0.10425715-0.31205089j,\n",
       "         -0.10425715+0.31205089j],\n",
       "        [ 0.74765768+0.j        , -0.18223374+0.61382945j,\n",
       "         -0.18223374-0.61382945j],\n",
       "        [ 0.21209532+0.j        ,  0.69408858+0.j        ,\n",
       "          0.69408858-0.j        ]]))"
      ]
     },
     "execution_count": 106,
     "metadata": {},
     "output_type": "execute_result"
    }
   ],
   "source": [
    "#18. Eig: computes the eigenvalues and right eigenvectors for a square matrix.\n",
    "np.linalg.eig(A)"
   ]
  },
  {
   "cell_type": "code",
   "execution_count": 107,
   "id": "97115874",
   "metadata": {},
   "outputs": [
    {
     "data": {
      "text/plain": [
       "20"
      ]
     },
     "execution_count": 107,
     "metadata": {},
     "output_type": "execute_result"
    }
   ],
   "source": [
    "#19. Dot: calculates the dot product of two vectors which is the sum of the products of \n",
    "#elements with regards to their position. the fisrt element of the fist vector is multiplied by the first\n",
    "#element of the second vector and so on\n",
    "a=np.array([1,2,3,4])\n",
    "b= np.array([2,2,2,2])\n",
    "np.dot(a,b)"
   ]
  },
  {
   "cell_type": "code",
   "execution_count": 108,
   "id": "dc0382a6",
   "metadata": {},
   "outputs": [
    {
     "data": {
      "text/plain": [
       "array([[ 9,  6],\n",
       "       [21, 16]])"
      ]
     },
     "execution_count": 108,
     "metadata": {},
     "output_type": "execute_result"
    }
   ],
   "source": [
    "#Matmul: it performs matrix multiplication\n",
    "A=([[1,2],[3,4]])\n",
    "B=([[3,4],[3,1]])\n",
    "np.matmul(A,B)"
   ]
  }
 ],
 "metadata": {
  "kernelspec": {
   "display_name": "Python 3 (ipykernel)",
   "language": "python",
   "name": "python3"
  },
  "language_info": {
   "codemirror_mode": {
    "name": "ipython",
    "version": 3
   },
   "file_extension": ".py",
   "mimetype": "text/x-python",
   "name": "python",
   "nbconvert_exporter": "python",
   "pygments_lexer": "ipython3",
   "version": "3.9.12"
  }
 },
 "nbformat": 4,
 "nbformat_minor": 5
}
