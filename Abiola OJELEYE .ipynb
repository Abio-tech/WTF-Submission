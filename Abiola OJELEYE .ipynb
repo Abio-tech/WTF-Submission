{
 "cells": [
  {
   "cell_type": "code",
   "execution_count": 1,
   "id": "1e21c15f",
   "metadata": {},
   "outputs": [],
   "source": [
    "import numpy as np"
   ]
  },
  {
   "cell_type": "code",
   "execution_count": 2,
   "id": "5022a100",
   "metadata": {},
   "outputs": [
    {
     "data": {
      "text/plain": [
       "array([0, 2, 4, 6, 8])"
      ]
     },
     "execution_count": 2,
     "metadata": {},
     "output_type": "execute_result"
    }
   ],
   "source": [
    "np.arange(0,10,2)"
   ]
  },
  {
   "cell_type": "code",
   "execution_count": 6,
   "id": "9bed3fab",
   "metadata": {},
   "outputs": [
    {
     "data": {
      "text/plain": [
       "array([ 1,  3,  5,  7,  9, 11, 13, 15, 17, 19, 21, 23, 25, 27, 29, 31, 33,\n",
       "       35, 37, 39, 41, 43, 45, 47, 49, 51, 53, 55, 57, 59, 61, 63, 65, 67,\n",
       "       69, 71, 73, 75, 77, 79, 81, 83, 85, 87, 89, 91, 93, 95, 97, 99])"
      ]
     },
     "execution_count": 6,
     "metadata": {},
     "output_type": "execute_result"
    }
   ],
   "source": [
    "#using range (1,101) make a list of all odd numbers\n",
    "np.arange(1,101,2)"
   ]
  },
  {
   "cell_type": "code",
   "execution_count": 7,
   "id": "41ed8b3d",
   "metadata": {},
   "outputs": [
    {
     "data": {
      "text/plain": [
       "array([ 0,  2,  4,  6,  8, 10, 12, 14, 16, 18, 20, 22, 24, 26, 28, 30, 32,\n",
       "       34, 36, 38, 40, 42, 44, 46, 48, 50, 52, 54, 56, 58, 60, 62, 64, 66,\n",
       "       68, 70, 72, 74, 76, 78, 80, 82, 84, 86, 88, 90, 92, 94, 96, 98])"
      ]
     },
     "execution_count": 7,
     "metadata": {},
     "output_type": "execute_result"
    }
   ],
   "source": [
    "#using range(1,101) make a list of all even numbers\n",
    "np.arange(0,100,2)"
   ]
  },
  {
   "cell_type": "code",
   "execution_count": 14,
   "id": "8ff68641",
   "metadata": {},
   "outputs": [
    {
     "name": "stdout",
     "output_type": "stream",
     "text": [
      "9\n",
      "8\n",
      "7\n",
      "6\n",
      "5\n",
      "4\n",
      "3\n",
      "2\n",
      "1\n"
     ]
    }
   ],
   "source": [
    "#print all elements of a list using for loop\n",
    "r = [9, 8, 7, 6, 5, 4, 3, 2, 1]\n",
    "#to print the list using for loop\n",
    "for t in range(len(r)):\n",
    "    print (r[t]),"
   ]
  },
  {
   "cell_type": "code",
   "execution_count": 15,
   "id": "dbd6bd24",
   "metadata": {},
   "outputs": [
    {
     "name": "stdout",
     "output_type": "stream",
     "text": [
      "{'demola': 10, 'irekanmi': 5, 'ade': 1, 'eyilayomi': 8, 'desire': 7, 'eyilore': 4}\n"
     ]
    }
   ],
   "source": [
    "#write a python script to merge two python dictionaries\n",
    "w = {\"demola\":10, \"irekanmi\":5,\"ade\":1}\n",
    "y = {\"eyilayomi\":8, \"desire\":7, \"eyilore\":4}\n",
    "z=w.copy()\n",
    "z.update(y)\n",
    "print(z)"
   ]
  },
  {
   "cell_type": "code",
   "execution_count": 16,
   "id": "b7326830",
   "metadata": {},
   "outputs": [
    {
     "name": "stdout",
     "output_type": "stream",
     "text": [
      "{'demola': 10, 'irekanmi': 5, 'ade': 1, 'ayo': 30}\n",
      "{'demola': 10, 'irekanmi': 5, 'ade': 1}\n"
     ]
    }
   ],
   "source": [
    "#write a python program to remove key from a dictionary\n",
    "w = {\"demola\":10, \"irekanmi\":5,\"ade\":1,\"ayo\":30}\n",
    "print(w)\n",
    "if \"ayo\" in w:\n",
    "    del w[\"ayo\"]\n",
    "print(w)"
   ]
  },
  {
   "cell_type": "code",
   "execution_count": 22,
   "id": "b328a07f",
   "metadata": {},
   "outputs": [
    {
     "name": "stdout",
     "output_type": "stream",
     "text": [
      "7\n"
     ]
    }
   ],
   "source": [
    "#write a python program to remove key from a dictionary\n",
    "def max_num_in_k (k):\n",
    "    max = k[0]\n",
    "    for a in k:\n",
    "        if a > max:\n",
    "            max = a\n",
    "    return max\n",
    "print (max_num_in_k ([-9, -8, 7, -6, 5, -4, 3, 2, 1]))"
   ]
  },
  {
   "cell_type": "code",
   "execution_count": 23,
   "id": "e712b981",
   "metadata": {},
   "outputs": [
    {
     "name": "stdout",
     "output_type": "stream",
     "text": [
      "21\n"
     ]
    }
   ],
   "source": [
    "#Take input of age of 3 people by user and determine youngest among them\n",
    "def min_num_in_age(age):\n",
    "    min = age[0]\n",
    "    for b in age:\n",
    "        if b < min:\n",
    "            min = b\n",
    "    return min \n",
    "print(min_num_in_age([35, 21,40]))"
   ]
  },
  {
   "cell_type": "code",
   "execution_count": 26,
   "id": "d21524a2",
   "metadata": {},
   "outputs": [
    {
     "name": "stdout",
     "output_type": "stream",
     "text": [
      "40\n"
     ]
    }
   ],
   "source": [
    "#Take input of age of 3 people by user and determine oldest among them\n",
    "def max_num_in_age(age):\n",
    "    max = age[0]\n",
    "    for d in age:\n",
    "        if d > max:\n",
    "            max = d\n",
    "    return max \n",
    "print(max_num_in_age([35, 21,40]))"
   ]
  },
  {
   "cell_type": "code",
   "execution_count": null,
   "id": "dcc3cbf0",
   "metadata": {},
   "outputs": [],
   "source": [
    "#A company decided to give bonus to of 5% to employee if his/her year of service is more than 5 years. \n",
    "#Ask user for their salary and year of service and print the net bonus amount.\n",
    "\n",
    "a = int(input(\"salary\"))\n",
    "b = int(input(\"year of service\"))\n",
    "c = 0.05 * a\n",
    "if (b >= 5):\n",
    "    print(c)\n",
    "else:\n",
    "    print(a)"
   ]
  },
  {
   "cell_type": "code",
   "execution_count": null,
   "id": "15362f78",
   "metadata": {},
   "outputs": [],
   "source": [
    "#A school has following rules for grading systems.\n",
    "maths=int(input\"marks of maths\"))\n",
    "eng=int(input\"marks of eng\"))\n",
    "science = int(input\"marks of science\"))\n",
    "art = int(input\"marks of art\"))\n",
    "phonics = int(input\"marks of phonics\"))\n",
    "avg=(maths+eng+science+art+phonics)/5\n",
    "if(avg>=80):\n",
    "    print(\"Grade A\")\n",
    "elif(\"avg>=60&avg<80\"):\n",
    "    print(\"Grade B\")\n",
    "elif(\"avg>=50&avg<60\"):\n",
    "    print(\"Grade C\")\n",
    "elif(\"avg>=45&avg<50\"):\n",
    "    print(\"Grade D\")\n",
    "elif(\"avg>=40&avg<45\"):\n",
    "    print(\"Grade E\")\n",
    "else:\n",
    "    print(\"Grade F\")    "
   ]
  },
  {
   "cell_type": "code",
   "execution_count": null,
   "id": "de3b2de0",
   "metadata": {},
   "outputs": [],
   "source": []
  }
 ],
 "metadata": {
  "kernelspec": {
   "display_name": "Python 3 (ipykernel)",
   "language": "python",
   "name": "python3"
  },
  "language_info": {
   "codemirror_mode": {
    "name": "ipython",
    "version": 3
   },
   "file_extension": ".py",
   "mimetype": "text/x-python",
   "name": "python",
   "nbconvert_exporter": "python",
   "pygments_lexer": "ipython3",
   "version": "3.9.12"
  }
 },
 "nbformat": 4,
 "nbformat_minor": 5
}
